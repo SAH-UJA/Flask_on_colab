{
  "nbformat": 4,
  "nbformat_minor": 0,
  "metadata": {
    "colab": {
      "name": "Flask_on_colab.ipynb",
      "provenance": [],
      "collapsed_sections": [],
      "authorship_tag": "ABX9TyPr+mm6d983+f9jNPUbaall",
      "include_colab_link": true
    },
    "kernelspec": {
      "name": "python3",
      "display_name": "Python 3"
    }
  },
  "cells": [
    {
      "cell_type": "markdown",
      "metadata": {
        "id": "view-in-github",
        "colab_type": "text"
      },
      "source": [
        "<a href=\"https://colab.research.google.com/github/SAH-UJA/Flask_on_colab/blob/main/Flask_on_colab.ipynb\" target=\"_parent\"><img src=\"https://colab.research.google.com/assets/colab-badge.svg\" alt=\"Open In Colab\"/></a>"
      ]
    },
    {
      "cell_type": "markdown",
      "metadata": {
        "id": "iOfFvk3qOgsZ"
      },
      "source": [
        "##Running Flask on Google Colab\r\n",
        "In this tutorial, we will be going through a quick demo on how to run a basic flask server on google colab."
      ]
    },
    {
      "cell_type": "markdown",
      "metadata": {
        "id": "Jn1xn8CdOx-J"
      },
      "source": [
        "####What is Flask?\r\n",
        "Flask is a micro web framework written in Python. It is classified as a microframework because it does not require particular tools or libraries. It has no database abstraction layer, form validation, or any other components where pre-existing third-party libraries provide common functions. If you are new to web development in Python. Flask is a good place to start."
      ]
    },
    {
      "cell_type": "markdown",
      "metadata": {
        "id": "uF3Cq_VpO_iy"
      },
      "source": [
        "####What is Google Colab?\r\n",
        "Google colaboratory, or \"Colab\" for short, allows you to write and execute Python in your browser, with\r\n",
        "\r\n",
        "*   Zero configuration required\r\n",
        "*   Free access to GPUs\r\n",
        "*   Easy sharing\r\n",
        "\r\n",
        "Whether you're a student, a data scientist or an AI researcher, Colab can make your work easier. Google colab has a structure almost similar to jupyter notebooks."
      ]
    },
    {
      "cell_type": "markdown",
      "metadata": {
        "id": "gAeyHMIkTwXt"
      },
      "source": [
        "We'll start off by installing the required packages. To install packages on google colab use the ! (exclamation) symbol as shown otherwise if you're running the demo on a local machine, you can write the following pip commands on command prompt and remove exclamation mark. Also, make sure pip is an environment variable on your CLI (Command Prompt)."
      ]
    },
    {
      "cell_type": "code",
      "metadata": {
        "colab": {
          "base_uri": "https://localhost:8080/"
        },
        "id": "dTSRkBmHNwof",
        "outputId": "6cd4d0fc-52b3-4727-9767-85a7473dc5ba"
      },
      "source": [
        "!pip install flask\r\n",
        "!pip install flask-ngrok"
      ],
      "execution_count": 1,
      "outputs": [
        {
          "output_type": "stream",
          "text": [
            "Requirement already satisfied: flask in /usr/local/lib/python3.6/dist-packages (1.1.2)\n",
            "Requirement already satisfied: click>=5.1 in /usr/local/lib/python3.6/dist-packages (from flask) (7.1.2)\n",
            "Requirement already satisfied: itsdangerous>=0.24 in /usr/local/lib/python3.6/dist-packages (from flask) (1.1.0)\n",
            "Requirement already satisfied: Werkzeug>=0.15 in /usr/local/lib/python3.6/dist-packages (from flask) (1.0.1)\n",
            "Requirement already satisfied: Jinja2>=2.10.1 in /usr/local/lib/python3.6/dist-packages (from flask) (2.11.2)\n",
            "Requirement already satisfied: MarkupSafe>=0.23 in /usr/local/lib/python3.6/dist-packages (from Jinja2>=2.10.1->flask) (1.1.1)\n",
            "Collecting flask-ngrok\n",
            "  Downloading https://files.pythonhosted.org/packages/af/6c/f54cb686ad1129e27d125d182f90f52b32f284e6c8df58c1bae54fa1adbc/flask_ngrok-0.0.25-py3-none-any.whl\n",
            "Requirement already satisfied: requests in /usr/local/lib/python3.6/dist-packages (from flask-ngrok) (2.23.0)\n",
            "Requirement already satisfied: Flask>=0.8 in /usr/local/lib/python3.6/dist-packages (from flask-ngrok) (1.1.2)\n",
            "Requirement already satisfied: idna<3,>=2.5 in /usr/local/lib/python3.6/dist-packages (from requests->flask-ngrok) (2.10)\n",
            "Requirement already satisfied: urllib3!=1.25.0,!=1.25.1,<1.26,>=1.21.1 in /usr/local/lib/python3.6/dist-packages (from requests->flask-ngrok) (1.24.3)\n",
            "Requirement already satisfied: chardet<4,>=3.0.2 in /usr/local/lib/python3.6/dist-packages (from requests->flask-ngrok) (3.0.4)\n",
            "Requirement already satisfied: certifi>=2017.4.17 in /usr/local/lib/python3.6/dist-packages (from requests->flask-ngrok) (2020.12.5)\n",
            "Requirement already satisfied: Jinja2>=2.10.1 in /usr/local/lib/python3.6/dist-packages (from Flask>=0.8->flask-ngrok) (2.11.2)\n",
            "Requirement already satisfied: itsdangerous>=0.24 in /usr/local/lib/python3.6/dist-packages (from Flask>=0.8->flask-ngrok) (1.1.0)\n",
            "Requirement already satisfied: click>=5.1 in /usr/local/lib/python3.6/dist-packages (from Flask>=0.8->flask-ngrok) (7.1.2)\n",
            "Requirement already satisfied: Werkzeug>=0.15 in /usr/local/lib/python3.6/dist-packages (from Flask>=0.8->flask-ngrok) (1.0.1)\n",
            "Requirement already satisfied: MarkupSafe>=0.23 in /usr/local/lib/python3.6/dist-packages (from Jinja2>=2.10.1->Flask>=0.8->flask-ngrok) (1.1.1)\n",
            "Installing collected packages: flask-ngrok\n",
            "Successfully installed flask-ngrok-0.0.25\n"
          ],
          "name": "stdout"
        }
      ]
    },
    {
      "cell_type": "markdown",
      "metadata": {
        "id": "czvcBkwHVX4b"
      },
      "source": [
        "####Why have we installed flask-ngrok?\r\n",
        "The reason is that the flask server creates a server that runs locally on the allocated runtime on google colab as localhost. In order to expose the server to the outside traffic or to make the server accessible outside the runtime globally on HTTP, we use ngrok here and since we are working with flask it is good to use flask-ngrok module of python."
      ]
    },
    {
      "cell_type": "code",
      "metadata": {
        "id": "DP0Jaf1cN4Y1"
      },
      "source": [
        "from flask import *\r\n",
        "from flask_ngrok import run_with_ngrok"
      ],
      "execution_count": 2,
      "outputs": []
    },
    {
      "cell_type": "code",
      "metadata": {
        "id": "teXQE2wOOGh0"
      },
      "source": [
        "app = Flask(__name__)"
      ],
      "execution_count": 3,
      "outputs": []
    },
    {
      "cell_type": "code",
      "metadata": {
        "id": "ZRpLsDX0OQCO"
      },
      "source": [
        "@app.route('/index')\r\n",
        "def home():\r\n",
        "  return 'Hello World'"
      ],
      "execution_count": 4,
      "outputs": []
    },
    {
      "cell_type": "markdown",
      "metadata": {
        "id": "GJEOd6hlWY6p"
      },
      "source": [
        "This is a simple route that we have created. @app.route('/index') decorator is used to enhance the functionality of the home() function. Whenever, we call the server at http://hostname:portnumber/index the home() function will also get called. The hostname if you are running on locally is 'localhost' which maps to 127.0.0.1. This is just for reference. We won't be bothering much about it in this demo."
      ]
    },
    {
      "cell_type": "code",
      "metadata": {
        "id": "R7LsOiKBOUNW"
      },
      "source": [
        "run_with_ngrok(app)"
      ],
      "execution_count": 5,
      "outputs": []
    },
    {
      "cell_type": "markdown",
      "metadata": {
        "id": "bJhg7e7MXa10"
      },
      "source": [
        "The run_with_ngrok() function takes in the object of Flask class, here it is stored in a variable, app. It attaches ngrok to the flask app so that when we run the app, a URL can be generated which is accessible outside the runtime."
      ]
    },
    {
      "cell_type": "code",
      "metadata": {
        "colab": {
          "base_uri": "https://localhost:8080/"
        },
        "id": "K1cGwRtSOWcZ",
        "outputId": "021ea9e2-aeb1-4724-8c08-1dc7260ec1b4"
      },
      "source": [
        "app.run()"
      ],
      "execution_count": 6,
      "outputs": [
        {
          "output_type": "stream",
          "text": [
            " * Serving Flask app \"__main__\" (lazy loading)\n",
            " * Environment: production\n",
            "\u001b[31m   WARNING: This is a development server. Do not use it in a production deployment.\u001b[0m\n",
            "\u001b[2m   Use a production WSGI server instead.\u001b[0m\n",
            " * Debug mode: off\n"
          ],
          "name": "stdout"
        },
        {
          "output_type": "stream",
          "text": [
            " * Running on http://127.0.0.1:5000/ (Press CTRL+C to quit)\n"
          ],
          "name": "stderr"
        },
        {
          "output_type": "stream",
          "text": [
            " * Running on http://ed745eb6f648.ngrok.io\n",
            " * Traffic stats available on http://127.0.0.1:4040\n"
          ],
          "name": "stdout"
        },
        {
          "output_type": "stream",
          "text": [
            "127.0.0.1 - - [04/Feb/2021 08:47:38] \"\u001b[37mGET / HTTP/1.1\u001b[0m\" 200 -\n",
            "127.0.0.1 - - [04/Feb/2021 08:47:39] \"\u001b[33mGET /favicon.ico HTTP/1.1\u001b[0m\" 404 -\n"
          ],
          "name": "stderr"
        }
      ]
    },
    {
      "cell_type": "markdown",
      "metadata": {
        "id": "MHMhDQAfYCvG"
      },
      "source": [
        "Now, our server is running. It can be accessed externally with the generated URL i.e. http://ed745eb6f648.ngrok.io but we have created route only for /index there we should check that out with http://ed745eb6f648.ngrok.io/index "
      ]
    },
    {
      "cell_type": "markdown",
      "metadata": {
        "id": "QdN0ox3AYr3i"
      },
      "source": [
        "Using flask it is easy to create simple APIs with full flexibility and we can now mine the power of google colab as well and try creating a ML service using this."
      ]
    },
    {
      "cell_type": "markdown",
      "metadata": {
        "id": "vgtoX4clY9fE"
      },
      "source": [
        "I hope this blog was crisp and comprehensive. Don't forget to like and follow me if you want to get more updates from my side. Happy Coding!!!"
      ]
    }
  ]
}