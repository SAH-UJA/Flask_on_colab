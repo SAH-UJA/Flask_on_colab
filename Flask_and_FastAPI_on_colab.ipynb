{
  "nbformat": 4,
  "nbformat_minor": 0,
  "metadata": {
    "colab": {
      "name": "Flask and FastAPI on colab.ipynb",
      "provenance": [],
      "collapsed_sections": [],
      "authorship_tag": "ABX9TyPMTFDNJTkOIkWyBWp5yibH",
      "include_colab_link": true
    },
    "kernelspec": {
      "name": "python3",
      "display_name": "Python 3"
    }
  },
  "cells": [
    {
      "cell_type": "markdown",
      "metadata": {
        "id": "view-in-github",
        "colab_type": "text"
      },
      "source": [
        "<a href=\"https://colab.research.google.com/github/SAH-UJA/Flask_on_colab/blob/main/Flask_and_FastAPI_on_colab.ipynb\" target=\"_parent\"><img src=\"https://colab.research.google.com/assets/colab-badge.svg\" alt=\"Open In Colab\"/></a>"
      ]
    },
    {
      "cell_type": "markdown",
      "metadata": {
        "id": "iOfFvk3qOgsZ"
      },
      "source": [
        "##Running Flask and FastAPI on Google Colab\r\n",
        "In this tutorial, we will be going through a quick demo on how to run a basic flask server on google colab."
      ]
    },
    {
      "cell_type": "markdown",
      "metadata": {
        "id": "Jn1xn8CdOx-J"
      },
      "source": [
        "####What is Flask?\r\n",
        "Flask is a micro web framework written in Python. It is classified as a microframework because it does not require particular tools or libraries. It has no database abstraction layer, form validation, or any other components where pre-existing third-party libraries provide common functions. If you are new to web development in Python. Flask is a good place to start."
      ]
    },
    {
      "cell_type": "markdown",
      "metadata": {
        "id": "I-fc8mI-awpT"
      },
      "source": [
        "### What is FastAPI?\r\n",
        "FastAPI is a modern, fast (high-performance), web framework for building APIs with Python 3.6+ based on standard Python type hints.\r\n",
        "The key features are:\r\n",
        "\r\n",
        "*  Fast: Very high performance, on par with NodeJS and Go (thanks to Starlette and \r\n",
        "*  Pydantic). One of the fastest Python frameworks available.\r\n",
        "*  Fast to code: Increase the speed to develop features by about 200% to 300%. \r\n",
        "*  Fewer bugs: Reduce about 40% of human (developer) induced errors. *\r\n",
        "*  Intuitive: Great editor support. Completion everywhere. Less time debugging.\r\n",
        "*  Easy: Designed to be easy to use and learn. Less time reading docs.\r\n",
        "*  Short: Minimize code duplication. Multiple features from each parameter declaration. Fewer bugs.\r\n",
        "*  Robust: Get production-ready code. With automatic interactive documentation.\r\n",
        "*  Standards-based: Based on (and fully compatible with) the open standards for APIs"
      ]
    },
    {
      "cell_type": "markdown",
      "metadata": {
        "id": "uF3Cq_VpO_iy"
      },
      "source": [
        "####What is Google Colab?\r\n",
        "Google colaboratory, or \"Colab\" for short, allows you to write and execute Python in your browser, with\r\n",
        "\r\n",
        "*   Zero configuration required\r\n",
        "*   Free access to GPUs\r\n",
        "*   Easy sharing\r\n",
        "\r\n",
        "Whether you're a student, a data scientist or an AI researcher, Colab can make your work easier. Google colab has a structure almost similar to jupyter notebooks."
      ]
    },
    {
      "cell_type": "markdown",
      "metadata": {
        "id": "gAeyHMIkTwXt"
      },
      "source": [
        "We'll start off by installing the required packages. To install packages on google colab use the ! (exclamation) symbol as shown otherwise if you're running the demo on a local machine, you can write the following pip commands on command prompt and remove exclamation mark. Also, make sure pip is an environment variable on your CLI (Command Prompt)."
      ]
    },
    {
      "cell_type": "code",
      "metadata": {
        "colab": {
          "base_uri": "https://localhost:8080/"
        },
        "id": "dTSRkBmHNwof",
        "outputId": "e340587a-f337-42fa-d60c-07e6ba6c469c"
      },
      "source": [
        "!pip install flask\r\n",
        "!pip install flask-ngrok"
      ],
      "execution_count": null,
      "outputs": [
        {
          "output_type": "stream",
          "text": [
            "Requirement already satisfied: flask in /usr/local/lib/python3.6/dist-packages (1.1.2)\n",
            "Requirement already satisfied: click>=5.1 in /usr/local/lib/python3.6/dist-packages (from flask) (7.1.2)\n",
            "Requirement already satisfied: itsdangerous>=0.24 in /usr/local/lib/python3.6/dist-packages (from flask) (1.1.0)\n",
            "Requirement already satisfied: Werkzeug>=0.15 in /usr/local/lib/python3.6/dist-packages (from flask) (1.0.1)\n",
            "Requirement already satisfied: Jinja2>=2.10.1 in /usr/local/lib/python3.6/dist-packages (from flask) (2.11.2)\n",
            "Requirement already satisfied: MarkupSafe>=0.23 in /usr/local/lib/python3.6/dist-packages (from Jinja2>=2.10.1->flask) (1.1.1)\n",
            "Requirement already satisfied: flask-ngrok in /usr/local/lib/python3.6/dist-packages (0.0.25)\n",
            "Requirement already satisfied: Flask>=0.8 in /usr/local/lib/python3.6/dist-packages (from flask-ngrok) (1.1.2)\n",
            "Requirement already satisfied: requests in /usr/local/lib/python3.6/dist-packages (from flask-ngrok) (2.23.0)\n",
            "Requirement already satisfied: Jinja2>=2.10.1 in /usr/local/lib/python3.6/dist-packages (from Flask>=0.8->flask-ngrok) (2.11.2)\n",
            "Requirement already satisfied: itsdangerous>=0.24 in /usr/local/lib/python3.6/dist-packages (from Flask>=0.8->flask-ngrok) (1.1.0)\n",
            "Requirement already satisfied: click>=5.1 in /usr/local/lib/python3.6/dist-packages (from Flask>=0.8->flask-ngrok) (7.1.2)\n",
            "Requirement already satisfied: Werkzeug>=0.15 in /usr/local/lib/python3.6/dist-packages (from Flask>=0.8->flask-ngrok) (1.0.1)\n",
            "Requirement already satisfied: idna<3,>=2.5 in /usr/local/lib/python3.6/dist-packages (from requests->flask-ngrok) (2.10)\n",
            "Requirement already satisfied: certifi>=2017.4.17 in /usr/local/lib/python3.6/dist-packages (from requests->flask-ngrok) (2020.12.5)\n",
            "Requirement already satisfied: chardet<4,>=3.0.2 in /usr/local/lib/python3.6/dist-packages (from requests->flask-ngrok) (3.0.4)\n",
            "Requirement already satisfied: urllib3!=1.25.0,!=1.25.1,<1.26,>=1.21.1 in /usr/local/lib/python3.6/dist-packages (from requests->flask-ngrok) (1.24.3)\n",
            "Requirement already satisfied: MarkupSafe>=0.23 in /usr/local/lib/python3.6/dist-packages (from Jinja2>=2.10.1->Flask>=0.8->flask-ngrok) (1.1.1)\n"
          ],
          "name": "stdout"
        }
      ]
    },
    {
      "cell_type": "markdown",
      "metadata": {
        "id": "czvcBkwHVX4b"
      },
      "source": [
        "####Why have we installed flask-ngrok?\r\n",
        "The reason is that the flask server creates a server that runs locally on the allocated runtime on google colab as localhost. In order to expose the server to the outside traffic or to make the server accessible outside the runtime globally on HTTP, we use ngrok here and since we are working with flask it is good to use flask-ngrok module of python."
      ]
    },
    {
      "cell_type": "code",
      "metadata": {
        "id": "DP0Jaf1cN4Y1"
      },
      "source": [
        "from flask import *\r\n",
        "from flask_ngrok import run_with_ngrok"
      ],
      "execution_count": null,
      "outputs": []
    },
    {
      "cell_type": "code",
      "metadata": {
        "id": "teXQE2wOOGh0"
      },
      "source": [
        "app = Flask(__name__)"
      ],
      "execution_count": null,
      "outputs": []
    },
    {
      "cell_type": "code",
      "metadata": {
        "id": "ZRpLsDX0OQCO"
      },
      "source": [
        "@app.route('/index')\r\n",
        "def home():\r\n",
        "  return 'Hello World'"
      ],
      "execution_count": null,
      "outputs": []
    },
    {
      "cell_type": "markdown",
      "metadata": {
        "id": "GJEOd6hlWY6p"
      },
      "source": [
        "This is a simple route that we have created. @app.route('/index') decorator is used to enhance the functionality of the home() function. Whenever, we call the server at http://hostname:portnumber/index the home() function will also get called. The hostname if you are running on locally is 'localhost' which maps to 127.0.0.1. This is just for reference. We won't be bothering much about it in this demo."
      ]
    },
    {
      "cell_type": "code",
      "metadata": {
        "id": "R7LsOiKBOUNW"
      },
      "source": [
        "run_with_ngrok(app)"
      ],
      "execution_count": null,
      "outputs": []
    },
    {
      "cell_type": "markdown",
      "metadata": {
        "id": "bJhg7e7MXa10"
      },
      "source": [
        "The run_with_ngrok() function takes in the object of Flask class, here it is stored in a variable, app. It attaches ngrok to the flask app so that when we run the app, a URL can be generated which is accessible outside the runtime."
      ]
    },
    {
      "cell_type": "code",
      "metadata": {
        "colab": {
          "base_uri": "https://localhost:8080/"
        },
        "id": "K1cGwRtSOWcZ",
        "outputId": "271f7754-9b55-4e9b-afde-3b0a571fdc59"
      },
      "source": [
        "app.run()"
      ],
      "execution_count": null,
      "outputs": [
        {
          "output_type": "stream",
          "text": [
            " * Serving Flask app \"__main__\" (lazy loading)\n",
            " * Environment: production\n",
            "\u001b[31m   WARNING: This is a development server. Do not use it in a production deployment.\u001b[0m\n",
            "\u001b[2m   Use a production WSGI server instead.\u001b[0m\n",
            " * Debug mode: off\n"
          ],
          "name": "stdout"
        },
        {
          "output_type": "stream",
          "text": [
            " * Running on http://127.0.0.1:5000/ (Press CTRL+C to quit)\n"
          ],
          "name": "stderr"
        },
        {
          "output_type": "stream",
          "text": [
            " * Running on http://57b01f4a6baf.ngrok.io\n",
            " * Traffic stats available on http://127.0.0.1:4040\n"
          ],
          "name": "stdout"
        },
        {
          "output_type": "stream",
          "text": [
            "127.0.0.1 - - [04/Feb/2021 10:02:21] \"\u001b[37mGET /index HTTP/1.1\u001b[0m\" 200 -\n",
            "127.0.0.1 - - [04/Feb/2021 10:02:22] \"\u001b[33mGET /favicon.ico HTTP/1.1\u001b[0m\" 404 -\n",
            "127.0.0.1 - - [04/Feb/2021 10:17:06] \"\u001b[37mGET /index HTTP/1.1\u001b[0m\" 200 -\n"
          ],
          "name": "stderr"
        }
      ]
    },
    {
      "cell_type": "markdown",
      "metadata": {
        "id": "MHMhDQAfYCvG"
      },
      "source": [
        "Now, our server is running. It can be accessed externally with the generated URL i.e. http://ed745eb6f648.ngrok.io but we have created route only for /index there we should check that out with http://ed745eb6f648.ngrok.io/index "
      ]
    },
    {
      "cell_type": "markdown",
      "metadata": {
        "id": "QdN0ox3AYr3i"
      },
      "source": [
        "Using flask it is easy to create simple APIs with full flexibility and we can now mine the power of google colab as well and try creating a ML service using this."
      ]
    },
    {
      "cell_type": "markdown",
      "metadata": {
        "id": "21mTHwYMcGs0"
      },
      "source": [
        "Let's now jump to FastAPI which is a very promising library of Python due to the fact that it is based on ASGI and handles request asynchronously increasing throughput and performance as compared to Flask that used WSGI which doesn't support async calls. FastAPI has a good documentation available out there as well. In order to run FastAPI on Google Colab, we need to install it first along with the following packages:\r\n",
        "\r\n",
        "*  nest-asyncio : This presents a practical problem: When in an environment where the event loop is already running it’s impossible to run tasks and wait for the result. Trying to do so will give the error “RuntimeError: This event loop is already running”. The issue pops up in various environments, such as web servers, GUI applications and in Jupyter notebooks. This module patches asyncio to allow nested use of asyncio.run and loop.run_until_complete.\r\n",
        "*  pyngrok : This is a Python wrapper for ngrok that manages its own binary and puts it on your path, making ngrok readily available from anywhere on the command line and via a convenient Python API. ngrok is made even more powerful with native Python integration through pyngrok.\r\n",
        "*  uvicorn : This includes a Gunicorn worker class allowing you to run ASGI applications, with all of Uvicorn's performance benefits, while also giving you Gunicorn's fully-featured process management."
      ]
    },
    {
      "cell_type": "code",
      "metadata": {
        "colab": {
          "base_uri": "https://localhost:8080/"
        },
        "id": "OGkHhxjCZgij",
        "outputId": "5da6c547-73d6-4906-9375-60380649c076"
      },
      "source": [
        "!pip install fastapi nest-asyncio pyngrok uvicorn"
      ],
      "execution_count": 1,
      "outputs": [
        {
          "output_type": "stream",
          "text": [
            "Collecting fastapi\n",
            "\u001b[?25l  Downloading https://files.pythonhosted.org/packages/9f/33/1b643f650688ad368983bbaf3b0658438038ea84d775dd37393d826c3833/fastapi-0.63.0-py3-none-any.whl (50kB)\n",
            "\r\u001b[K     |██████▌                         | 10kB 12.3MB/s eta 0:00:01\r\u001b[K     |█████████████                   | 20kB 16.9MB/s eta 0:00:01\r\u001b[K     |███████████████████▌            | 30kB 15.1MB/s eta 0:00:01\r\u001b[K     |██████████████████████████      | 40kB 10.0MB/s eta 0:00:01\r\u001b[K     |████████████████████████████████| 51kB 2.9MB/s \n",
            "\u001b[?25hRequirement already satisfied: nest-asyncio in /usr/local/lib/python3.6/dist-packages (1.5.1)\n",
            "Collecting pyngrok\n",
            "  Downloading https://files.pythonhosted.org/packages/e2/19/af0fc6c11cc13f8a31e9dbec21af745337be8a40b5738cd30f08a483eac3/pyngrok-5.0.1.tar.gz\n",
            "Collecting uvicorn\n",
            "\u001b[?25l  Downloading https://files.pythonhosted.org/packages/2e/02/1e2520f6999e793d5bc5c15d8057b2e829d16a148e41199e0ae519653fa0/uvicorn-0.13.3-py3-none-any.whl (45kB)\n",
            "\u001b[K     |████████████████████████████████| 51kB 5.4MB/s \n",
            "\u001b[?25hCollecting starlette==0.13.6\n",
            "\u001b[?25l  Downloading https://files.pythonhosted.org/packages/c5/a4/c9e228d7d47044ce4c83ba002f28ff479e542455f0499198a3f77c94f564/starlette-0.13.6-py3-none-any.whl (59kB)\n",
            "\u001b[K     |████████████████████████████████| 61kB 5.1MB/s \n",
            "\u001b[?25hCollecting pydantic<2.0.0,>=1.0.0\n",
            "\u001b[?25l  Downloading https://files.pythonhosted.org/packages/52/ea/fae9f69b6e56407961318e8c73e203097a97c7bd71b30bf1b4f5eb448f28/pydantic-1.7.3-cp36-cp36m-manylinux2014_x86_64.whl (9.2MB)\n",
            "\u001b[K     |████████████████████████████████| 9.2MB 26.3MB/s \n",
            "\u001b[?25hRequirement already satisfied: PyYAML in /usr/local/lib/python3.6/dist-packages (from pyngrok) (3.13)\n",
            "Requirement already satisfied: typing-extensions; python_version < \"3.8\" in /usr/local/lib/python3.6/dist-packages (from uvicorn) (3.7.4.3)\n",
            "Collecting h11>=0.8\n",
            "\u001b[?25l  Downloading https://files.pythonhosted.org/packages/60/0f/7a0eeea938eaf61074f29fed9717f2010e8d0e0905d36b38d3275a1e4622/h11-0.12.0-py3-none-any.whl (54kB)\n",
            "\u001b[K     |████████████████████████████████| 61kB 6.4MB/s \n",
            "\u001b[?25hRequirement already satisfied: click==7.* in /usr/local/lib/python3.6/dist-packages (from uvicorn) (7.1.2)\n",
            "Requirement already satisfied: dataclasses>=0.6; python_version < \"3.7\" in /usr/local/lib/python3.6/dist-packages (from pydantic<2.0.0,>=1.0.0->fastapi) (0.8)\n",
            "Building wheels for collected packages: pyngrok\n",
            "  Building wheel for pyngrok (setup.py) ... \u001b[?25l\u001b[?25hdone\n",
            "  Created wheel for pyngrok: filename=pyngrok-5.0.1-cp36-none-any.whl size=18822 sha256=659daaa8597dd6b287b81f3da441f6496f3ceee808b39d7ae2ce04149f33cb20\n",
            "  Stored in directory: /root/.cache/pip/wheels/94/01/05/d39efb8f6b40a411354b4168ca9dda99e6f8d586e458e97551\n",
            "Successfully built pyngrok\n",
            "Installing collected packages: starlette, pydantic, fastapi, pyngrok, h11, uvicorn\n",
            "Successfully installed fastapi-0.63.0 h11-0.12.0 pydantic-1.7.3 pyngrok-5.0.1 starlette-0.13.6 uvicorn-0.13.3\n"
          ],
          "name": "stdout"
        }
      ]
    },
    {
      "cell_type": "markdown",
      "metadata": {
        "id": "g2zORYW_euft"
      },
      "source": [
        "We import *FastAPI* class from fastapi module and create its object that we call, *app*. We also create a route with @app.route('/index') decorator which is linked with the async *home()* method. *async* acts as a modifier to make the function execute asynchronously. The local FastAPI server runs at port number 8000 and ngrok creates a tunnel so that outside networks can also access it as described earlier in the flask server implementation. Since FastAPI supports async calls we need a ASGI server i.e. uvicorn which runs the app at port number 8000 locally."
      ]
    },
    {
      "cell_type": "code",
      "metadata": {
        "colab": {
          "base_uri": "https://localhost:8080/"
        },
        "id": "7oMNjRvPe-qA",
        "outputId": "689593f6-7f1f-4b40-9377-57a82b2e462f"
      },
      "source": [
        "from fastapi import FastAPI\r\n",
        "import nest_asyncio\r\n",
        "from pyngrok import ngrok\r\n",
        "import uvicorn\r\n",
        "\r\n",
        "app = FastAPI()\r\n",
        "\r\n",
        "@app.get('/index')\r\n",
        "async def home():\r\n",
        "  return \"Hello World\"\r\n",
        "\r\n",
        "ngrok_tunnel = ngrok.connect(8000)\r\n",
        "print('Public URL:', ngrok_tunnel.public_url)\r\n",
        "nest_asyncio.apply()\r\n",
        "uvicorn.run(app, port=8000)"
      ],
      "execution_count": 3,
      "outputs": [
        {
          "output_type": "stream",
          "text": [
            "Public URL: http://af9a6a5b8bdb.ngrok.io\n"
          ],
          "name": "stdout"
        },
        {
          "output_type": "stream",
          "text": [
            "INFO:     Started server process [63]\n",
            "INFO:     Waiting for application startup.\n",
            "INFO:     Application startup complete.\n",
            "INFO:     Uvicorn running on http://127.0.0.1:8000 (Press CTRL+C to quit)\n"
          ],
          "name": "stderr"
        },
        {
          "output_type": "stream",
          "text": [
            "INFO:     2405:201:500b:6821:24cf:b32:fe1c:2ca5:0 - \"GET / HTTP/1.1\" 404 Not Found\n",
            "INFO:     2405:201:500b:6821:24cf:b32:fe1c:2ca5:0 - \"GET /favicon.ico HTTP/1.1\" 404 Not Found\n",
            "INFO:     2405:201:500b:6821:24cf:b32:fe1c:2ca5:0 - \"GET /index HTTP/1.1\" 200 OK\n"
          ],
          "name": "stdout"
        },
        {
          "output_type": "stream",
          "text": [
            "INFO:     Shutting down\n",
            "INFO:     Waiting for application shutdown.\n",
            "INFO:     Application shutdown complete.\n",
            "INFO:     Finished server process [63]\n"
          ],
          "name": "stderr"
        }
      ]
    },
    {
      "cell_type": "markdown",
      "metadata": {
        "id": "vgtoX4clY9fE"
      },
      "source": [
        "I hope this blog was crisp and comprehensive. Don't forget to like and follow me if you want to get more updates from my side. Happy Coding!!!"
      ]
    }
  ]
}